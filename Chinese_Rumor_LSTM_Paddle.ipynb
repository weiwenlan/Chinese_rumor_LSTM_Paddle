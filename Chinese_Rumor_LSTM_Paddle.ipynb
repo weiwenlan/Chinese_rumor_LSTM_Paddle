{
 "cells": [
  {
   "cell_type": "markdown",
   "metadata": {
    "collapsed": false
   },
   "source": [
    "# Dataset: https://github.com/thunlp/Chinese_Rumor_Dataset\n"
   ]
  },
  {
   "cell_type": "markdown",
   "metadata": {
    "collapsed": false
   },
   "source": [
    "# Step1 Preprocessing Dataset\n",
    "\n",
    "1. Unzip all dataset files. Read and analyze the dataset. Generate all_data.txt\n",
    "\n",
    "2. Generate data dictionary. Generate dict.txt \n",
    "\n",
    "3. Generate a data list and divide it into training and evaluation sets. Generate train_list.txt and eval_list.txt\n",
    "\n",
    "4. Define a traing data feeder and a evaluation data feeder. Generate train_reader and eval_reader."
   ]
  },
  {
   "cell_type": "code",
   "execution_count": 9,
   "metadata": {
    "collapsed": false
   },
   "outputs": [],
   "source": [
    "# unzip Rumor_Dataset.zip to the data directory\n",
    "import zipfile\n",
    "import os\n",
    "import random\n",
    "from PIL import Image\n",
    "from PIL import ImageEnhance\n",
    "import json\n",
    "\n",
    "src_path=\"/home/aistudio/data/data20519/Rumor_Dataset.zip\"\n",
    "target_path=\"/home/aistudio/data/Chinese_Rumor_Dataset-master\"\n",
    "if(not os.path.isdir(target_path)):\n",
    "    z = zipfile.ZipFile(src_path, 'r')\n",
    "    z.extractall(path=target_path)\n",
    "    z.close()"
   ]
  },
  {
   "cell_type": "code",
   "execution_count": 12,
   "metadata": {
    "collapsed": false
   },
   "outputs": [
    {
     "name": "stdout",
     "output_type": "stream",
     "text": [
      "Counting of rumor data: 1538\n",
      "Counting of non-rumor data: 1849\n"
     ]
    }
   ],
   "source": [
    "# file path of rumor data, non-rumor data, and all data\n",
    "rumor_class_dirs = os.listdir(target_path+\"/Chinese_Rumor_Dataset-master/CED_Dataset/rumor-repost/\")\n",
    "non_rumor_class_dirs = os.listdir(target_path+\"/Chinese_Rumor_Dataset-master/CED_Dataset/non-rumor-repost/\")\n",
    "original_microblog = target_path+\"/Chinese_Rumor_Dataset-master/CED_Dataset/original-microblog/\"\n",
    "\n",
    "\n",
    "# label of the rumor 0 and non-rumor 1\n",
    "rumor_label=\"0\"\n",
    "non_rumor_label=\"1\"\n",
    "\n",
    "# count of the rumor and non-rumor\n",
    "rumor_num = 0\n",
    "non_rumor_num = 0\n",
    "\n",
    "all_rumor_list = []\n",
    "all_non_rumor_list = []\n",
    "\n",
    "# get all rumor data\n",
    "for rumor_class_dir in rumor_class_dirs: \n",
    "    if(rumor_class_dir != '.DS_Store'):\n",
    "        with open(original_microblog + rumor_class_dir, 'r') as f:\n",
    "\t        rumor_content = f.read()\n",
    "        rumor_dict = json.loads(rumor_content)\n",
    "        all_rumor_list.append(rumor_label+\"\\t\"+rumor_dict[\"text\"]+\"\\n\")\n",
    "        rumor_num +=1\n",
    "\n",
    "\n",
    "# get all non rumor data\n",
    "for non_rumor_class_dir in non_rumor_class_dirs: \n",
    "    if(non_rumor_class_dir != '.DS_Store'):\n",
    "        with open(original_microblog + non_rumor_class_dir, 'r') as f2:\n",
    "\t        non_rumor_content = f2.read()\n",
    "        non_rumor_dict = json.loads(non_rumor_content)\n",
    "        all_non_rumor_list.append(non_rumor_label+\"\\t\"+non_rumor_dict[\"text\"]+\"\\n\")\n",
    "        non_rumor_num +=1\n",
    "        \n",
    "print(\"Counting of rumor data: \"+str(rumor_num))\n",
    "print(\"Counting of non-rumor data: \"+str(non_rumor_num))\n"
   ]
  },
  {
   "cell_type": "code",
   "execution_count": 14,
   "metadata": {
    "collapsed": false
   },
   "outputs": [
    {
     "name": "stdout",
     "output_type": "stream",
     "text": [
      "0\t【交通新规】2013年1月1日施行:1闯红灯记6分，罚100元。2酒驾5年内不得再考取驾照。3不系安全带记3分，罚100元。4副驾不系安全带记1分，罚50元。5行驶中拨打手机记3分，罚100元。6行驶中抽烟记1分，罚100元。7有意遮挡号牌记12分，顶额处罚。8超速驾驶记6分。速度转发扩散给朋友啊！！! (via广州日报)\n",
      "\n",
      "0\t家乐福突发事件，营业时间所有出入口用铁门封闭，不许进出，原因是一女士结账时跟在身边的孩子突然失踪，报警后，家乐福立刻封闭所有出入口寻找，孩子后在二楼卫生间找到，头发被剃光，衣服被换掉，人口贩子不知去向，团伙作案手法迅速，年关将至，大家出入公共场合务必带好孩子。转发给周围的妈妈们。\n",
      "\n",
      "0\t转帖：Mico是中美混血男孩，3周岁，身高1米左右，偏瘦，寸头，离开时身穿绿色棉布大衣、深蓝色裤子、咖色皮鞋，能说简单的中文及英文。于1月7日16：33分左右，🌟在深圳爱绿双语幼儿园门口育秀路段（大润发周边）被抢走，至今下落未明，他的妈妈已近崩溃，望知情者提供线索，求扩散！\n",
      "\n",
      "0\t【交通新规】2013年1月1日施行:①闯红灯，记6分罚100元。②酒驾，5年内不得再考取驾照。③不系安全带，记3分罚100元。④副驾不系安全带，记1分罚50元。⑤行驶中拨打手机，记3分罚100元。⑥行驶中抽烟，记1分罚100元。⑦有意遮挡号牌，记12分顶额处罚。⑧超速驾驶，记6分◆北京全攻略 @北京玩乐攻略fun\n",
      "\n",
      "0\t新骗局来了：如果你收到任何一个电话（包括1008600）说在检查你的手机线路，并要求你按“#”或其他任何键，不要按键，并结束通话。那是一家欺诈公司，他们的机器能在你按键后连接到你的SIM卡，并用你的钱来打电话。记者了解到，很可能有人安装了类似号码修改器的软件。抓紧【转】走！☞@全球奇闻异趣\n",
      "\n",
      "0\t1996年在澳大利亚悉尼，一只野狗在水库大便，结果当地水务局鉴定水质污染，悉尼水业在电视台和报社打广告，告诉大家自来水被污染；2013年在中国上海，几千头死猪出现在黄浦江，结果当地水务局宣布水质没有问题...潘评：上海现在烧壶开水再加两片藕就是排骨汤，这生活多好啊！\n",
      "\n",
      "0\t【一只救了32条人命的搜救犬牺牲了】昨天下午一只军用搜救犬发现一位大爷，它就钻进里面，结果塌陷了，当战士们将其挖出的时候，发现军犬的内脏已经砸烂，这只狗狗在这几天已经发现了35名幸存者，有32名获救。听到噩耗，狗的主人李指导像失去孩子父亲般失声痛哭。\n",
      "\n",
      "0\t谁知道这个可能晕倒吗？〜朋友的老公前天在王府井地下车库取车的时候发现车的两侧倒视镜上各有一只小黄鸭，他没敢开车，找了保安过来，让保安把小黄鸭拿走，结果保安拿了小黄鸭子以后，没走几步就晕倒了。后来经其他保安盘查，发现地库里很多车也被别了鸭子，他们当时就报警了。下图为当时拍的照片。  \n",
      "\n",
      "0\t【#无下限#三星支付苹果10亿美元：30卡车的5美分硬币】今天上午30辆装满5美分硬币的的卡车停在了加利福尼亚州的苹果公司的总部。最初安保以为是转移错了地方，但是在数分钟之后，库克收到一个来自三星CEO的电话，电话中解释道这就是他们将要支付给美国苹果公司的10亿美元的罚款http://t.cn/zW3nzuH\n",
      "\n",
      "0\t【据说新浪微博要开启最近访客功能】你妹!以后让我怎么看男友，前男友，前前男友，男友前女友，前男友现女友，前前男友暧昧对象，男友勾搭对象，前前男友老情人的微博啊！让我怎么看我讨厌的人，我讨厌的人喜欢的人，我以前讨厌的人，讨厌我的人，讨厌我的人喜欢的人，不愿关注却天天看得人的微博啊！\n",
      "\n"
     ]
    }
   ],
   "source": [
    "for  i in range(10):\n",
    "    print(all_rumor_list[i])"
   ]
  },
  {
   "cell_type": "code",
   "execution_count": 5,
   "metadata": {
    "collapsed": false
   },
   "outputs": [
    {
     "name": "stdout",
     "output_type": "stream",
     "text": [
      "1\t【纪念日】四年,一晃眼,或许你谈了一场刻骨铭心的恋爱,或许你收获了会陪伴一生的友谊,不管怎样,烙在心上的东西,忘不了,丢不掉,就像当初跨进百度李敏镐吧一样,怀着憧憬,带着一路或欢笑或荆棘走到现在,未来的五年六年…许多年,还要看到那么多怀着相同信念的姑娘一起欢笑.四周年,我们在这里--百度李敏镐吧\n",
      "\n",
      "1\t你思考问题的时候会咬嘴上的死皮吧、你睡觉会蜷成一团用被子把自己卷起来吧 、你害怕一个人的时侯看见别人成群结队吧、 你吃饭时搭车时总喜欢坐靠窗的位置吧 、你只会对人倾诉一部分事而把另一部分藏心里吧 、你讨厌有很多陌生人热闹嘈杂的地方吧 、那是缺乏安全感的表现，中枪了吗~ 安，好梦。\n",
      "\n",
      "1\t【奶粉之后，下一个限购会是尿不湿吗？】据中国新闻网，自上月实施限奶令，缓解了香港“奶粉荒”，但另一波“尿片荒”却已悄然而至。纸尿片已成水客扫货首选，多间药房均已售罄。另据钱江晚报，几天前，宁波海关打掉一个走私花王纸尿裤的公司。该公司共走私花王纸尿裤57万余包，够5万新生儿用半年。\n",
      "\n",
      "1\t【河北邢台市长遭网上联名举报】日前，标题为《曝河北省邢台市市长刘大群收受回扣、豢养情妇》的举报网帖，成为网络反腐最新一波。该文章以“张剑仁”等河北邢台29名干部群众身份，联名举报邢台市长刘大群“四宗罪”。许多网民表示，此次联名举报的事实详细，有关部门应尽快查清事实。@新华社中国网事\n",
      "\n",
      "1\t#NBA精彩gif# JR史密斯压哨绝杀，这也是他本赛季第二次上演绝杀！如果你是主教练，你认为现役球员中谁最有资格执行最后一投？\n",
      "\n",
      "1\t【重庆警界内部“黑打”调查】重庆打黑3年，共5600人次警察被处理，重庆警方已低调启动纠错程序。重庆市公安局政治部宣传处负责人近日称，市委市政府和公检法系统正在协调处理“平反”的事，会在合适时间公布方案。被处理警察的申诉中，多称曾遭刑讯逼供。目前已900多人获内部“平反”。详见长微博：\n",
      "\n",
      "1\t其实我到现在对壹基金也没太多不满，而且壹基金救援联盟里的事我还少少参与过，里面好多救援专家，相当牛逼。只是因为牛根生在里面做理事我才不敢信壹基金了。谁有能力把牛根生弄红会去好不好？这样大家相得益彰是不是啊？求大神。\n",
      "\n",
      "1\t#晚间分享#【积极生活的奥秘，你知道吗？】1.对于工作，我们努力但不痴狂；2.对于购物，我们量力而不攀比；3.对于娱乐，我们爱好但不丧志；4.对于家庭，我们忠诚但不刻板；5.对于金钱，我们喜爱但不贪婪；6.对于享受，我们追逐但不放纵；7.对于爱情，我们相信但不迷失。各位晚安，[拜拜]\n",
      "\n",
      "1\t有没有试过回过头去看你跟一个人的聊天记录，从一开始到现在。看着看着就笑了，笑着笑着就哭了.....一个人，从陌生走近你，然后再陌生。。。\n",
      "\n",
      "1\t【如果你遇到一个银行妹 不要犹豫快把她娶回家吧】因为她们一直在监控摄像下工作，养成了规规矩矩的好习惯。因为客户越来越难伺候，就得越来越学会忍气吞声骂不还口。因为加班开会考试培训一大堆，下班就只想回家不会出去夜夜笙歌，回家叹口气吃个面也很满足如果你遇到一个银行妹，不要再犹豫了。  \n",
      "\n"
     ]
    }
   ],
   "source": [
    "for i in range(10):\n",
    "    print(all_non_rumor_list[i])"
   ]
  },
  {
   "cell_type": "code",
   "execution_count": 16,
   "metadata": {
    "collapsed": false
   },
   "outputs": [],
   "source": [
    "data_list_path=\"/home/aistudio/data/\"\n",
    "all_data_path=data_list_path + \"all_data.txt\"\n",
    "\n",
    "all_data_list = all_rumor_list + all_non_rumor_list\n",
    "\n",
    "\n",
    "# shuffle the data\n",
    "random.shuffle(all_data_list)\n",
    "\n",
    "with open(all_data_path, 'w') as f:\n",
    "    f.seek(0)\n",
    "    f.truncate() \n",
    "    \n",
    "with open(all_data_path, 'a') as f:\n",
    "    for data in all_data_list:\n",
    "        f.write(data) "
   ]
  },
  {
   "cell_type": "code",
   "execution_count": 18,
   "metadata": {
    "collapsed": false
   },
   "outputs": [],
   "source": [
    "import os\n",
    "from multiprocessing import cpu_count\n",
    "import numpy as np\n",
    "import shutil\n",
    "import paddle\n",
    "import paddle.fluid as fluid\n",
    "from PIL import Image\n",
    "import matplotlib.pyplot as plt\n"
   ]
  },
  {
   "cell_type": "code",
   "execution_count": 21,
   "metadata": {
    "collapsed": false
   },
   "outputs": [],
   "source": [
    "\n",
    "# Generate data dict\n",
    "def create_dict(data_path, dict_path):\n",
    "    dict_set = set()\n",
    "    # Read all data \n",
    "    with open(data_path, 'r', encoding='utf-8') as f:\n",
    "        lines = f.readlines()\n",
    "    # Generate a set to remove duplicate\n",
    "    for line in lines:\n",
    "        content = line.split('\\t')[-1].replace('\\n', '')\n",
    "        for s in content:\n",
    "            dict_set.add(s)\n",
    "    # transfer the set to dict\n",
    "    dict_list = []\n",
    "    i = 0\n",
    "    for s in dict_set:\n",
    "        dict_list.append([s, i])\n",
    "        i += 1\n",
    "    # add unknown token\n",
    "    dict_txt = dict(dict_list)\n",
    "    end_dict = {\"<unk>\": i}\n",
    "    dict_txt.update(end_dict)\n",
    "    # save them to the file\n",
    "    with open(dict_path, 'w', encoding='utf-8') as f:\n",
    "        f.write(str(dict_txt))\n",
    "    print(\"Finish generation the data dict\")\n",
    "    \n",
    "    \n",
    "# get the length of the data dict\n",
    "def get_dict_len(dict_path):\n",
    "    with open(dict_path, 'r', encoding='utf-8') as f:\n",
    "        line = eval(f.readlines()[0])\n",
    "    return len(line.keys())\n"
   ]
  },
  {
   "cell_type": "code",
   "execution_count": 23,
   "metadata": {
    "collapsed": false
   },
   "outputs": [
    {
     "name": "stdout",
     "output_type": "stream",
     "text": [
      "Finish generation the data dict\n"
     ]
    }
   ],
   "source": [
    "# the path to save the dictionary\n",
    "dict_path = data_list_path + \"dict.txt\"\n",
    "\n",
    "# create the data dict\n",
    "with open(dict_path, 'w') as f:\n",
    "    f.seek(0)\n",
    "    f.truncate() \n",
    "create_dict(all_data_path, dict_path)"
   ]
  },
  {
   "cell_type": "markdown",
   "metadata": {
    "collapsed": false
   },
   "source": [
    "**Some example of the dictionary**\n",
    "\n",
    "'置': 26, '插': 27, '拢': 28, '砍': 29, '沁': 30, '鄭': 31, '纸': 32, 'ら': 33, '缕': 34, '蒲': 35, '韩': 36, 'M': 37, '雯': 38, '囚': 39,"
   ]
  },
  {
   "cell_type": "code",
   "execution_count": 34,
   "metadata": {
    "collapsed": false
   },
   "outputs": [],
   "source": [
    "# 创建序列化表示的数据,并按照一定比例划分训练数据与验证数据\n",
    "def create_data_list(data_list_path):\n",
    "    # Empty the eval_list.txt and train_list,txt before generate new data\n",
    "    with open(os.path.join(data_list_path, 'eval_list.txt'), 'w', encoding='utf-8') as f_eval:\n",
    "        f_eval.seek(0)\n",
    "        f_eval.truncate()\n",
    "        \n",
    "    with open(os.path.join(data_list_path, 'train_list.txt'), 'w', encoding='utf-8') as f_train:\n",
    "        f_train.seek(0)\n",
    "        f_train.truncate() \n",
    "    \n",
    "    # Read in the whole data dict\n",
    "    with open(os.path.join(data_list_path, 'dict.txt'), 'r', encoding='utf-8') as f_data:\n",
    "        dict_txt = eval(f_data.readlines()[0])\n",
    "    \n",
    "    # Read in all datapoints we have\n",
    "    with open(os.path.join(data_list_path, 'all_data.txt'), 'r', encoding='utf-8') as f_data:\n",
    "        lines = f_data.readlines()\n",
    "    \n",
    "    \n",
    "    i = 0\n",
    "    # Split the dataset into train and evaluation set by random choosing 1/8 of them.\n",
    "    # Use the dict just generated to transfer the regular sentence to a number string\n",
    "    with open(os.path.join(data_list_path, 'eval_list.txt'), 'a', encoding='utf-8') as f_eval,open(os.path.join(data_list_path, 'train_list.txt'), 'a', encoding='utf-8') as f_train:\n",
    "        for line in lines:\n",
    "            words = line.split('\\t')[-1].replace('\\n', '')\n",
    "            label = line.split('\\t')[0]\n",
    "            labs = \"\"\n",
    "\n",
    "\n",
    "            if i % 8 == 0:\n",
    "                for s in words:\n",
    "                    lab = str(dict_txt[s])\n",
    "                    labs = labs + lab + ','\n",
    "                labs = labs[:-1]\n",
    "                labs = labs + '\\t' + label + '\\n'\n",
    "                f_eval.write(labs)\n",
    "            else:\n",
    "                for s in words:\n",
    "                    lab = str(dict_txt[s])\n",
    "                    labs = labs + lab + ','\n",
    "                labs = labs[:-1]\n",
    "                labs = labs + '\\t' + label + '\\n'\n",
    "                f_train.write(labs)\n",
    "            i += 1\n",
    "        \n",
    "    print(\"Finished the data list generation\")"
   ]
  },
  {
   "cell_type": "markdown",
   "metadata": {
    "collapsed": false
   },
   "source": [
    "**NUMBER STRING**\n",
    "\n",
    "2988,4404,2190,3144,2285,632,1525,1269,3717,3144,4288,2617,2049,2778,722,3162,1629,3672,3582,2229,3717,2402,2763,3481,1630,1068,1963,1416,2929,297,1236,2652,3219,2285,4288,1490,3435,223,3582,2229,3717,2402,2763,423,3162,2087,3864,3767,223,1812,1903,3162,1629,1014,4153,1616,1286,2520,1601,2852,423,3458,3917,4178,2274,2476,704,2190,3171,970,2027,4195,632,2763,4311,2745,1527,3469,3550,1525,2929,3582,2229,3717,2402,2763,3390,1311,3843,2053,3175,1269,3717,3390,1430,3219,423,395,1925,1141,446,1207,3390,1311,3092,768,2301,3466,1490,2787,4153,4311,986,4080,4080,3598,1564,2444,2444,4080,2976,3343,1901,2444,3741,2523,3109,2422,1749,3895,1682,3784,1963,2214,1525,223,3791,1655,1207,3997,994,4404,2638,2107,2027,3304,1055,1055\n",
    "\n",
    "**ORIGINAL TEXTS**\n",
    "\n",
    "【多地出新规：孩子出生超3月报户口需做亲子鉴定】近日网传“90天的新生儿若不做亲子鉴定，户籍部门不给上户口！”经调查显示，西安、银川等地确有相关规定。民警解释：“做亲子鉴定是为了证明孩子是你的，此政策主要是为防止贩卖儿童”。http://t.cn/8FIWzTH 网友：不知又要揭露多少真相啊……"
   ]
  },
  {
   "cell_type": "code",
   "execution_count": 35,
   "metadata": {
    "collapsed": false
   },
   "outputs": [
    {
     "name": "stdout",
     "output_type": "stream",
     "text": [
      "Finished the data list generation\n"
     ]
    }
   ],
   "source": [
    "dict_path = data_list_path + \"dict.txt\"\n",
    "\n",
    "create_data_list(data_list_path)"
   ]
  },
  {
   "cell_type": "code",
   "execution_count": 36,
   "metadata": {
    "collapsed": false
   },
   "outputs": [],
   "source": [
    "# Read the data point and string -> Number\n",
    "def data_mapper(sample):\n",
    "    data, label = sample\n",
    "    data = [int(data) for data in data.split(',')]\n",
    "    return data, int(label)\n",
    "\n",
    "# define a data reader\n",
    "def data_reader(data_path):\n",
    "    def reader():\n",
    "        with open(data_path, 'r') as f:\n",
    "            lines = f.readlines()\n",
    "            for line in lines:\n",
    "                data, label = line.split('\\t')\n",
    "                yield data, label\n",
    "    return paddle.reader.xmap_readers(data_mapper, reader, cpu_count(), 1024)"
   ]
  },
  {
   "cell_type": "code",
   "execution_count": 37,
   "metadata": {
    "collapsed": false
   },
   "outputs": [],
   "source": [
    "# Get training data generator and test data generator\n",
    "BATCH_SIZE = 128\n",
    "\n",
    "train_list_path = data_list_path+'train_list.txt'\n",
    "eval_list_path = data_list_path+'eval_list.txt'\n",
    "\n",
    "train_reader = paddle.batch(\n",
    "\t\treader=data_reader(train_list_path), \n",
    "\t\tbatch_size=BATCH_SIZE)\n",
    "eval_reader = paddle.batch(\n",
    "\t\treader=data_reader(eval_list_path), \n",
    "\t\tbatch_size=BATCH_SIZE)"
   ]
  },
  {
   "cell_type": "markdown",
   "metadata": {
    "collapsed": false
   },
   "source": [
    "# Step2 Build up the LSTM"
   ]
  },
  {
   "cell_type": "markdown",
   "metadata": {
    "collapsed": false
   },
   "source": [
    "## 1 building up the model"
   ]
  },
  {
   "cell_type": "code",
   "execution_count": 38,
   "metadata": {
    "collapsed": false
   },
   "outputs": [],
   "source": [
    "# 定义长短期记忆网络\n",
    "# define a LSTM network \n",
    "def lstm_net(ipt, input_dim):\n",
    "\n",
    "    # IDs of data as input\n",
    "\n",
    "    emb = fluid.layers.embedding(input=ipt, size=[input_dim, 128], is_sparse=True)\n",
    "\n",
    "    # Fully Connected layer\n",
    "\n",
    "    fc1 = fluid.layers.fc(input=emb, size=128)\n",
    "\n",
    "    # use dynamic_lstm to generate a LSTM layer\n",
    "\n",
    "    lstm1, _ = fluid.layers.dynamic_lstm(input=fc1, #Return the hidden state of LSTM \n",
    "\n",
    "                                         size=128) # Size  = 4 * hidden state\n",
    "\n",
    "    # Max Pooling the FC layer\n",
    "\n",
    "    fc2 = fluid.layers.sequence_pool(input=fc1, pool_type='max')\n",
    "\n",
    "    # Max Pooling the LSTM layer\n",
    "\n",
    "    lstm2 = fluid.layers.sequence_pool(input=lstm1, pool_type='max')\n",
    "\n",
    "    # use the softmax as the output, Set size = 2 which will give the prediction of \"rumor/non-rumor\"\n",
    "\n",
    "    out = fluid.layers.fc(input=[fc2, lstm2], size=2, act='softmax')\n",
    "\n",
    "    return out"
   ]
  },
  {
   "cell_type": "markdown",
   "metadata": {
    "collapsed": false
   },
   "source": [
    "## 2 define the data layer"
   ]
  },
  {
   "cell_type": "code",
   "execution_count": 39,
   "metadata": {
    "collapsed": false
   },
   "outputs": [],
   "source": [
    "# define the input layer, lod_level = 1 defines that the input data is a stream \n",
    "\n",
    "words = fluid.data(name='words', shape=[None,1], dtype='int64', lod_level=1)\n",
    "label = fluid.data(name='label', shape=[None,1], dtype='int64')\n"
   ]
  },
  {
   "cell_type": "markdown",
   "metadata": {
    "collapsed": false
   },
   "source": [
    "## 3 define the classifier "
   ]
  },
  {
   "cell_type": "code",
   "execution_count": 40,
   "metadata": {
    "collapsed": false
   },
   "outputs": [],
   "source": [
    "# Get the length of the data dict\n",
    "dict_dim = get_dict_len(dict_path)\n",
    "# define the classifier\n",
    "model = lstm_net(words, dict_dim)"
   ]
  },
  {
   "cell_type": "markdown",
   "metadata": {
    "collapsed": false
   },
   "source": [
    "## 4 Define the loss and the accuracy function \n",
    "\n",
    "Remember to generate the average of the loss function.\n"
   ]
  },
  {
   "cell_type": "code",
   "execution_count": 43,
   "metadata": {
    "collapsed": false
   },
   "outputs": [],
   "source": [
    "# Get the Loss and the accuracy\n",
    "cost = fluid.layers.cross_entropy(input=model, label=label)\n",
    "avg_cost = fluid.layers.mean(cost)\n",
    "acc = fluid.layers.accuracy(input=model, label=label)\n"
   ]
  },
  {
   "cell_type": "code",
   "execution_count": 44,
   "metadata": {
    "collapsed": false
   },
   "outputs": [],
   "source": [
    "# Define the prediction\n",
    "test_program = fluid.default_main_program().clone(for_test=True)"
   ]
  },
  {
   "cell_type": "markdown",
   "metadata": {
    "collapsed": false
   },
   "source": [
    "## 5 Define Optimizer"
   ]
  },
  {
   "cell_type": "code",
   "execution_count": 45,
   "metadata": {
    "collapsed": false
   },
   "outputs": [],
   "source": [
    "# define optimizer\n",
    "optimizer = fluid.optimizer.AdagradOptimizer(learning_rate=0.001)\n",
    "opt = optimizer.minimize(avg_cost)"
   ]
  },
  {
   "cell_type": "markdown",
   "metadata": {
    "collapsed": false
   },
   "source": [
    "Program: **fluid.default_startup_program()** and **fluid.default_main_program()** are configured.\n",
    "\n",
    "The parameter initialization operation is written to **fluid.default_startup_program()**\n",
    "\n",
    "fluid.default_main_program() is used to get the default or global main program (main program). All layer functions in fluid.layers can add operators and variables to the default_main_program. This is like pytorch's nn.sequential()\n",
    "\n",
    "default_main_program is the default value for the Program parameter of many of fluid's programming interfaces (APIs). For example, Executor.run() will execute default_main_program by default when the user program is not passed in."
   ]
  },
  {
   "cell_type": "markdown",
   "metadata": {
    "collapsed": false
   },
   "source": [
    "## Step 3 and 4 Train and evaluate "
   ]
  },
  {
   "cell_type": "markdown",
   "metadata": {
    "collapsed": false
   },
   "source": [
    "### 1 Define a executor"
   ]
  },
  {
   "cell_type": "code",
   "execution_count": 46,
   "metadata": {
    "collapsed": false
   },
   "outputs": [
    {
     "data": {
      "text/plain": [
       "[]"
      ]
     },
     "execution_count": 46,
     "metadata": {},
     "output_type": "execute_result"
    }
   ],
   "source": [
    "# Use CPU to compute\n",
    "use_cuda = False \n",
    "place = fluid.CUDAPlace(0) if use_cuda else fluid.CPUPlace()\n",
    "exe = fluid.Executor(place)  \n",
    "# Parameter initialization\n",
    "exe.run(fluid.default_startup_program())\n"
   ]
  },
  {
   "cell_type": "markdown",
   "metadata": {
    "collapsed": false
   },
   "source": [
    "### 2 Define a Data mapper\n",
    "\n",
    "The DataFeeder is responsible for converting the data returned by the data providers (train_reader,test_reader) into a special data structure that can be entered into the Executor.\n",
    "\n",
    "feed_list sets the name of the table of variables or variables to be fed into the model\n"
   ]
  },
  {
   "cell_type": "code",
   "execution_count": 47,
   "metadata": {
    "collapsed": false
   },
   "outputs": [],
   "source": [
    "# Define data feeder\n",
    "feeder = fluid.DataFeeder(place=place, feed_list=[words, label])"
   ]
  },
  {
   "cell_type": "markdown",
   "metadata": {
    "collapsed": false
   },
   "source": [
    "### 3 Show the curve of training"
   ]
  },
  {
   "cell_type": "code",
   "execution_count": 48,
   "metadata": {
    "collapsed": false
   },
   "outputs": [],
   "source": [
    "all_train_iter=0\n",
    "all_train_iters=[]\n",
    "all_train_costs=[]\n",
    "all_train_accs=[]\n",
    "\n",
    "all_eval_iter=0\n",
    "all_eval_iters=[]\n",
    "all_eval_costs=[]\n",
    "all_eval_accs=[]\n",
    "\n",
    "\n",
    "def draw_process(title,iters,costs,accs,label_cost,lable_acc):\n",
    "    plt.title(title, fontsize=24)\n",
    "    plt.xlabel(\"iter\", fontsize=20)\n",
    "    plt.ylabel(\"cost/acc\", fontsize=20)\n",
    "    plt.plot(iters, costs,color='red',label=label_cost) \n",
    "    plt.plot(iters, accs,color='green',label=lable_acc) \n",
    "    plt.legend()\n",
    "    plt.grid()\n",
    "    plt.show()"
   ]
  },
  {
   "cell_type": "markdown",
   "metadata": {
    "collapsed": false
   },
   "source": [
    "### Train and save the model\n",
    "\n",
    "Executor receives the program. According to the feed map and fetch_list, add feed and fetch operators to the program.\n",
    "\n",
    "1. Feed map provides the input data for the program\n",
    "\n",
    "2. Fetch_list return the variables user wanted\n",
    "\n",
    "After each round of training, use the validation and compute the cost and acc"
   ]
  },
  {
   "cell_type": "code",
   "execution_count": 50,
   "metadata": {
    "collapsed": false
   },
   "outputs": [
    {
     "name": "stdout",
     "output_type": "stream",
     "text": [
      "Pass:0, Batch:0, Cost:0.50863, Acc:0.88281\n",
      "Test:0, Cost:0.51692, ACC:0.83750\n",
      "Pass:1, Batch:0, Cost:0.49867, Acc:0.88281\n",
      "Test:1, Cost:0.51228, ACC:0.83086\n",
      "Pass:2, Batch:0, Cost:0.48922, Acc:0.89062\n",
      "Test:2, Cost:0.49781, ACC:0.84375\n",
      "Pass:3, Batch:0, Cost:0.47998, Acc:0.89062\n",
      "Test:3, Cost:0.48998, ACC:0.84766\n",
      "Pass:4, Batch:0, Cost:0.47146, Acc:0.89062\n",
      "Test:4, Cost:0.48244, ACC:0.86172\n",
      "Pass:5, Batch:0, Cost:0.46272, Acc:0.89844\n",
      "Test:5, Cost:0.47475, ACC:0.86367\n",
      "Pass:6, Batch:0, Cost:0.45472, Acc:0.89844\n",
      "Test:6, Cost:0.46850, ACC:0.86797\n",
      "Pass:7, Batch:0, Cost:0.44697, Acc:0.90625\n",
      "Test:7, Cost:0.46020, ACC:0.86992\n",
      "Pass:8, Batch:0, Cost:0.43955, Acc:0.90625\n",
      "Test:8, Cost:0.45505, ACC:0.86797\n",
      "Pass:9, Batch:0, Cost:0.43237, Acc:0.90625\n",
      "Test:9, Cost:0.44876, ACC:0.86992\n",
      "Model saved!\n"
     ]
    },
    {
     "data": {
      "image/png": "[encoded data removed]",
      "text/plain": [
       "<Figure size 432x288 with 1 Axes>"
      ]
     },
     "metadata": {},
     "output_type": "display_data"
    },
    {
     "data": {
      "image/png": "[encoded data removed]",
      "text/plain": [
       "<Figure size 432x288 with 1 Axes>"
      ]
     },
     "metadata": {},
     "output_type": "display_data"
    }
   ],
   "source": [
    "EPOCH_NUM=10                                        # Train Epoch\n",
    "model_save_dir = '/home/aistudio/work/infer_model/' # Model saving \n",
    "# Start training \n",
    "for pass_id in range(EPOCH_NUM):\n",
    "    # train code\n",
    "    for batch_id, data in enumerate(train_reader()):\n",
    "        train_cost, train_acc = exe.run(program=fluid.default_main_program(),\n",
    "                             feed=feeder.feed(data),\n",
    "                             fetch_list=[avg_cost, acc])\n",
    "        all_train_iter=all_train_iter+BATCH_SIZE\n",
    "        all_train_iters.append(all_train_iter)\n",
    "        all_train_costs.append(train_cost[0])\n",
    "        all_train_accs.append(train_acc[0])\n",
    "\n",
    "        if batch_id % 100 == 0:\n",
    "            print('Pass:%d, Batch:%d, Cost:%0.5f, Acc:%0.5f' % (pass_id, batch_id, train_cost[0], train_acc[0]))\n",
    "    # validation code\n",
    "    eval_costs = []\n",
    "    eval_accs = []\n",
    "    for batch_id, data in enumerate(eval_reader()):\n",
    "        eval_cost, eval_acc = exe.run(program=test_program,\n",
    "                                              feed=feeder.feed(data),\n",
    "                                              fetch_list=[avg_cost, acc])\n",
    "        eval_costs.append(eval_cost[0])\n",
    "        eval_accs.append(eval_acc[0])\n",
    "        \n",
    "        all_eval_iter=all_eval_iter+BATCH_SIZE\n",
    "        all_eval_iters.append(all_eval_iter)\n",
    "        all_eval_costs.append(eval_cost[0])                                       \n",
    "        all_eval_accs.append(eval_acc[0])      \n",
    "    # calculate the average eval and train cost\n",
    "    eval_cost = (sum(eval_costs) / len(eval_costs))\n",
    "    eval_acc = (sum(eval_accs) / len(eval_accs))\n",
    "    print('Test:%d, Cost:%0.5f, ACC:%0.5f' % (pass_id, eval_cost, eval_acc))\n",
    "\n",
    "# save the model\n",
    "if not os.path.exists(model_save_dir): \n",
    "    os.makedirs(model_save_dir) \n",
    "fluid.io.save_inference_model(model_save_dir, \n",
    "                            feeded_var_names=[words.name], \n",
    "                            target_vars=[model], \n",
    "                            executor=exe)\n",
    "print('Model saved!') \n",
    "\n",
    "draw_process(\"train\",all_train_iters,all_train_costs,all_train_accs,\"trainning cost\",\"trainning acc\")\n",
    "draw_process(\"eval\",all_eval_iters,all_eval_costs,all_eval_accs,\"evaling cost\",\"evaling acc\")"
   ]
  },
  {
   "cell_type": "markdown",
   "metadata": {
    "collapsed": false
   },
   "source": [
    "### Step 5 Prediction"
   ]
  },
  {
   "cell_type": "code",
   "execution_count": 51,
   "metadata": {
    "collapsed": false
   },
   "outputs": [
    {
     "name": "stdout",
     "output_type": "stream",
     "text": [
      "the Result is 0， rumor， the Probability is 0.709468\n",
      "the Result is 0， rumor， the Probability is 0.648110\n",
      "the Result is 1， non-rumor， the Probability is 0.621380\n"
     ]
    }
   ],
   "source": [
    "# Use the model to predict\n",
    "# executoer\n",
    "place = fluid.CPUPlace()\n",
    "infer_exe = fluid.Executor(place)\n",
    "infer_exe.run(fluid.default_startup_program())\n",
    "\n",
    "save_path = '/home/aistudio/work/infer_model/'\n",
    "\n",
    "\n",
    "# get infer, data feeder and classifier from the model\n",
    "[infer_program, feeded_var_names, target_var] = fluid.io.load_inference_model(dirname=save_path, executor=infer_exe)\n",
    "\n",
    "\n",
    "# Fetch data\n",
    "def get_data(sentence):\n",
    "    # Data dict\n",
    "    with open('/home/aistudio/data/dict.txt', 'r', encoding='utf-8') as f_data:\n",
    "        dict_txt = eval(f_data.readlines()[0])\n",
    "    dict_txt = dict(dict_txt)\n",
    "    # Transfer the string to int\n",
    "    keys = dict_txt.keys()\n",
    "    data = []\n",
    "    for s in sentence:\n",
    "        # deal with unkown data\n",
    "        if not s in keys:\n",
    "            s = '<unk>'\n",
    "        data.append(int(dict_txt[s]))\n",
    "    return data\n",
    "\n",
    "\n",
    "data = []\n",
    "# get data \n",
    "data1 = get_data('兴仁县今天抢小孩没抢走，把孩子母亲捅了一刀，看见这车的注意了，真事，车牌号辽HFM055！！！！！赶紧散播！ 都别带孩子出去瞎转悠了 尤其别让老人自己带孩子出去 太危险了 注意了！！！！辽HFM055北京现代朗动，在各学校门口抢小孩！！！110已经 证实！！全市通缉！！')\n",
    "data2 = get_data('重庆真实新闻:2016年6月1日在重庆梁平县袁驿镇发生一起抢儿童事件，做案人三个中年男人，在三中学校到镇街上的一条小路上，把小孩直接弄晕(儿童是袁驿新幼儿园中班的一名学生)，正准备带走时被家长及时发现用棒子赶走了做案人，故此获救！请各位同胞们以此引起非常重视，希望大家有爱心的人传递下')\n",
    "data3 = get_data('@尾熊C 要提前预习育儿知识的话，建议看一些小巫写的书，嘻嘻')\n",
    "data.append(data1)\n",
    "data.append(data2)\n",
    "data.append(data3)\n",
    "\n",
    "# word number in every sentence\n",
    "base_shape = [[len(c) for c in data]]\n",
    "\n",
    "# generation of prediciton \n",
    "tensor_words = fluid.create_lod_tensor(data, base_shape, place)\n",
    "\n",
    "# running\n",
    "result = exe.run(program=infer_program,\n",
    "                 feed={feeded_var_names[0]: tensor_words},\n",
    "                 fetch_list=target_var)\n",
    "\n",
    "# Labels\n",
    "names = [ 'rumor', 'non-rumor']\n",
    "\n",
    "# get the label with highest Probability\n",
    "for i in range(len(data)):\n",
    "    lab = np.argsort(result)[0][i][-1]\n",
    "    print('the Result is %d， %s， the Probability is %f' % (lab, names[lab], result[0][i][lab]))"
   ]
  }
 ],
 "metadata": {
  "kernelspec": {
   "display_name": "Python 3",
   "language": "python",
   "name": "py35-paddle1.2.0"
  },
  "language_info": {
   "codemirror_mode": {
    "name": "ipython",
    "version": 3
   },
   "file_extension": ".py",
   "mimetype": "text/x-python",
   "name": "python",
   "nbconvert_exporter": "python",
   "pygments_lexer": "ipython3",
   "version": "3.7.4"
  }
 },
 "nbformat": 4,
 "nbformat_minor": 1
}
